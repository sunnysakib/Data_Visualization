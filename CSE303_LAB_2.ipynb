{
  "nbformat": 4,
  "nbformat_minor": 0,
  "metadata": {
    "colab": {
      "provenance": [],
      "authorship_tag": "ABX9TyOXH4wK5cg+kGy/RR2fRcIf",
      "include_colab_link": true
    },
    "kernelspec": {
      "name": "python3",
      "display_name": "Python 3"
    },
    "language_info": {
      "name": "python"
    }
  },
  "cells": [
    {
      "cell_type": "markdown",
      "metadata": {
        "id": "view-in-github",
        "colab_type": "text"
      },
      "source": [
        "<a href=\"https://colab.research.google.com/github/sunnysakib/Data_Visualization/blob/main/CSE303_LAB_2.ipynb\" target=\"_parent\"><img src=\"https://colab.research.google.com/assets/colab-badge.svg\" alt=\"Open In Colab\"/></a>"
      ]
    },
    {
      "cell_type": "code",
      "source": [
        "# Problem 1: Squares of Even Numbers\n",
        "# Write a Python program to generate a list of squares of even numbers from 1 to 10 using list comprehension.\n",
        "\n",
        "mySqrNum = [i**2 for i in range(1, 11, 1) if i%2 == 0]\n",
        "\n",
        "mySqrNum"
      ],
      "metadata": {
        "colab": {
          "base_uri": "https://localhost:8080/"
        },
        "id": "7IRvAoRhS20I",
        "outputId": "18bd5471-e019-4fd5-a5d5-b3d7a0bf3e96"
      },
      "execution_count": null,
      "outputs": [
        {
          "output_type": "execute_result",
          "data": {
            "text/plain": [
              "[4, 16, 36, 64, 100]"
            ]
          },
          "metadata": {},
          "execution_count": 4
        }
      ]
    },
    {
      "cell_type": "code",
      "source": [
        "# Problem 2: Uppercase Vowels\n",
        "# Write a Python program to convert all the vowels in a given string to uppercase using list comprehension.\n",
        "\n",
        "myString = \"helloworld\"\n",
        "\n",
        "myString1 = [ i.upper() if i =='a' or i =='e' or i =='i' or i =='o' or i =='u' else i.lower() for i in myString ]\n",
        "\n",
        "myString2 = ''.join(myString1)\n",
        "\n",
        "myString2\n",
        "\n"
      ],
      "metadata": {
        "id": "yj8STDAWTeMB",
        "colab": {
          "base_uri": "https://localhost:8080/",
          "height": 35
        },
        "outputId": "0a58ed96-3b66-41cf-da01-39da45c780d4"
      },
      "execution_count": null,
      "outputs": [
        {
          "output_type": "execute_result",
          "data": {
            "text/plain": [
              "'hEllOwOrld'"
            ],
            "application/vnd.google.colaboratory.intrinsic+json": {
              "type": "string"
            }
          },
          "metadata": {},
          "execution_count": 20
        }
      ]
    },
    {
      "cell_type": "code",
      "source": [
        "# Problem 3: Filter Odd Numbers\n",
        "# Write a Python program to filter out all the odd numbers from a given list using list comprehension.\n",
        "\n",
        "mylist3 = [i for i in range(1, 21,1)]\n",
        "\n",
        "mylistOdd1 = [j for j in mylist3 if j%2 != 0]\n",
        "\n",
        "mylistOdd1"
      ],
      "metadata": {
        "colab": {
          "base_uri": "https://localhost:8080/"
        },
        "id": "b-jxZRIrU2iQ",
        "outputId": "0c98f0f1-bb8f-48c2-d40b-d0290ee1dfdf"
      },
      "execution_count": null,
      "outputs": [
        {
          "output_type": "execute_result",
          "data": {
            "text/plain": [
              "[1, 3, 5, 7, 9, 11, 13, 15, 17, 19]"
            ]
          },
          "metadata": {},
          "execution_count": 37
        }
      ]
    },
    {
      "cell_type": "code",
      "source": [
        "# Problem 4: Reverse Words\n",
        "# Write a Python program to reverse each word in a given sentence using list comprehension.\n",
        "# For example, if the input is \"helloworld\", the output should be \"olleH dlrow\".\n",
        "\n",
        "myString3 = [i for i in myString]\n",
        "\n",
        "myString4 = [myString3[j] for j in range(len(myString3)-1, -1, -1)]\n",
        "\n",
        "myString5 = ''.join(myString4)\n",
        "myString5"
      ],
      "metadata": {
        "colab": {
          "base_uri": "https://localhost:8080/",
          "height": 35
        },
        "id": "vMXvn-diWhCP",
        "outputId": "0b205f09-8e28-4970-a46f-d49343de91bf"
      },
      "execution_count": null,
      "outputs": [
        {
          "output_type": "execute_result",
          "data": {
            "text/plain": [
              "'dlrowolleh'"
            ],
            "application/vnd.google.colaboratory.intrinsic+json": {
              "type": "string"
            }
          },
          "metadata": {},
          "execution_count": 65
        }
      ]
    },
    {
      "cell_type": "code",
      "source": [
        "# Write a Python program to flatten a 2D matrix into a 1D list using list comprehension.\n",
        "# For example, if the input is [[1, 2, 3], [4, 5, 6], [7, 8, 9]], the output should be [1, 2, 3, 4, 5, 6, 7, 8, 9].\n",
        "\n",
        "mymat1 = [[1, 2, 3], [4, 5, 6], [7, 8, 9]]\n",
        "myMat = [j for i in mymat1 for j in i]\n",
        "\n",
        "myMat"
      ],
      "metadata": {
        "id": "A0R6r0NCYy-Q",
        "colab": {
          "base_uri": "https://localhost:8080/"
        },
        "outputId": "5d8e64ce-8526-4e50-e68a-c5fcd1f921a1"
      },
      "execution_count": null,
      "outputs": [
        {
          "output_type": "execute_result",
          "data": {
            "text/plain": [
              "[1, 2, 3, 4, 5, 6, 7, 8, 9]"
            ]
          },
          "metadata": {},
          "execution_count": 84
        }
      ]
    }
  ]
}