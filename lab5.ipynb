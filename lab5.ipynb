{
  "nbformat": 4,
  "nbformat_minor": 0,
  "metadata": {
    "colab": {
      "provenance": [],
      "authorship_tag": "ABX9TyM97AMAizlZXeVR1W8NLuO1",
      "include_colab_link": true
    },
    "kernelspec": {
      "name": "python3",
      "display_name": "Python 3"
    },
    "language_info": {
      "name": "python"
    }
  },
  "cells": [
    {
      "cell_type": "markdown",
      "metadata": {
        "id": "view-in-github",
        "colab_type": "text"
      },
      "source": [
        "<a href=\"https://colab.research.google.com/github/sunnysakib/Data_Visualization/blob/main/lab5.ipynb\" target=\"_parent\"><img src=\"https://colab.research.google.com/assets/colab-badge.svg\" alt=\"Open In Colab\"/></a>"
      ]
    },
    {
      "cell_type": "code",
      "execution_count": 22,
      "metadata": {
        "id": "0JIdL5YKnSjr"
      },
      "outputs": [],
      "source": [
        "list1 = [1,2,3]"
      ]
    },
    {
      "cell_type": "code",
      "source": [
        "list2 = [3,4,5]"
      ],
      "metadata": {
        "id": "xFVs-QhXqDUD"
      },
      "execution_count": 23,
      "outputs": []
    },
    {
      "cell_type": "code",
      "source": [
        "list3 = list1 + list2\n",
        "list3"
      ],
      "metadata": {
        "colab": {
          "base_uri": "https://localhost:8080/"
        },
        "id": "MTnLron9qQuE",
        "outputId": "ee9b9599-b4fb-4744-f915-8b735e7f881b"
      },
      "execution_count": 24,
      "outputs": [
        {
          "output_type": "execute_result",
          "data": {
            "text/plain": [
              "[1, 2, 3, 3, 4, 5]"
            ]
          },
          "metadata": {},
          "execution_count": 24
        }
      ]
    },
    {
      "cell_type": "code",
      "source": [
        "import numpy as np\n",
        "arr1 = np.array(list1)\n",
        "arr2 = np.array(list2)\n",
        "arr3 = arr1 + arr2\n",
        "arr3"
      ],
      "metadata": {
        "colab": {
          "base_uri": "https://localhost:8080/"
        },
        "id": "60ubeKoUqkxy",
        "outputId": "1a4d93c1-3fa2-4641-d806-0a0b3b336d9a"
      },
      "execution_count": 25,
      "outputs": [
        {
          "output_type": "execute_result",
          "data": {
            "text/plain": [
              "array([4, 6, 8])"
            ]
          },
          "metadata": {},
          "execution_count": 25
        }
      ]
    },
    {
      "cell_type": "code",
      "source": [
        "list3 = [0,0,0]\n",
        "for i in range(len(list1)):\n",
        "  list3[i] = list1[i] + list2[i]\n",
        "list3"
      ],
      "metadata": {
        "colab": {
          "base_uri": "https://localhost:8080/"
        },
        "id": "SMCfMHIErB1j",
        "outputId": "6c6dd3e6-d5f1-4323-972e-54e22bf8922d"
      },
      "execution_count": 26,
      "outputs": [
        {
          "output_type": "execute_result",
          "data": {
            "text/plain": [
              "[4, 6, 8]"
            ]
          },
          "metadata": {},
          "execution_count": 26
        }
      ]
    },
    {
      "cell_type": "code",
      "source": [
        "np.mean(list3)"
      ],
      "metadata": {
        "colab": {
          "base_uri": "https://localhost:8080/"
        },
        "id": "iKW6j1hmr0uj",
        "outputId": "fa87111d-4d9b-41de-9a02-3ad5e7d6d56b"
      },
      "execution_count": 27,
      "outputs": [
        {
          "output_type": "execute_result",
          "data": {
            "text/plain": [
              "6.0"
            ]
          },
          "metadata": {},
          "execution_count": 27
        }
      ]
    },
    {
      "cell_type": "code",
      "source": [
        "A = np.array([[1, 2, 0], [4,2,5], [1,0,2]])\n",
        "A"
      ],
      "metadata": {
        "colab": {
          "base_uri": "https://localhost:8080/"
        },
        "id": "VaHr1IMkwj1f",
        "outputId": "3a94b3a5-0d16-46f4-af20-bfcce5f12064"
      },
      "execution_count": 28,
      "outputs": [
        {
          "output_type": "execute_result",
          "data": {
            "text/plain": [
              "array([[1, 2, 0],\n",
              "       [4, 2, 5],\n",
              "       [1, 0, 2]])"
            ]
          },
          "metadata": {},
          "execution_count": 28
        }
      ]
    },
    {
      "cell_type": "code",
      "source": [
        "def submatrix(A, row, col):\n",
        "    submat = []\n",
        "    for i in range(len(A)):\n",
        "        if i == row:\n",
        "            continue\n",
        "        subrow = []\n",
        "        for j in range(len(A[0])):\n",
        "            if j != col:\n",
        "              subrow.append(A[i][j])\n",
        "        submat.append(subrow)\n",
        "    return submat"
      ],
      "metadata": {
        "id": "58ceIKSTjOtC"
      },
      "execution_count": 102,
      "outputs": []
    },
    {
      "cell_type": "code",
      "source": [
        "submatrix(A, 0, 0)"
      ],
      "metadata": {
        "colab": {
          "base_uri": "https://localhost:8080/"
        },
        "id": "WCQRtynts3_g",
        "outputId": "9153552b-d79c-4f00-82ed-17542c270b13"
      },
      "execution_count": 99,
      "outputs": [
        {
          "output_type": "execute_result",
          "data": {
            "text/plain": [
              "[[2, 5], [0, 2]]"
            ]
          },
          "metadata": {},
          "execution_count": 99
        }
      ]
    },
    {
      "cell_type": "code",
      "source": [
        "def determinant(A):\n",
        "    if len(A) == 1:\n",
        "        return A[0][0]\n",
        "    det = 0\n",
        "    for j in range(len(A)):\n",
        "        if j % 2 == 0:\n",
        "            sign = 1\n",
        "        else:\n",
        "            sign = -1\n",
        "        det += sign * A[0][j] * determinant(submatrix(A, 0, j))\n",
        "\n",
        "    return det"
      ],
      "metadata": {
        "id": "WluCwK1lw_Zd"
      },
      "execution_count": 124,
      "outputs": []
    },
    {
      "cell_type": "code",
      "source": [
        " det = determinant(A)\n",
        " det"
      ],
      "metadata": {
        "colab": {
          "base_uri": "https://localhost:8080/"
        },
        "id": "o5unLeurKopb",
        "outputId": "c6048df3-6a2d-4499-f0d0-24b9afbbe6a7"
      },
      "execution_count": 132,
      "outputs": [
        {
          "output_type": "execute_result",
          "data": {
            "text/plain": [
              "-2"
            ]
          },
          "metadata": {},
          "execution_count": 132
        }
      ]
    },
    {
      "cell_type": "code",
      "source": [
        "def cofactor_matrix(A):\n",
        "    cofactors = np.zeros(9).reshape(3,3)\n",
        "    for i in range(len(A)):\n",
        "        for j in range(len(A)):\n",
        "            if (i + j) % 2 == 0:\n",
        "              sign = 1\n",
        "            else:\n",
        "              sign = -1\n",
        "            submat = submatrix(A, i, j)\n",
        "            cofactors[i][j] = sign * determinant(submat)\n",
        "\n",
        "    return cofactors"
      ],
      "metadata": {
        "id": "gM0UsvNKxQBW"
      },
      "execution_count": 116,
      "outputs": []
    },
    {
      "cell_type": "code",
      "source": [
        "cofactor = cofactor_matrix(A)\n",
        "cofactor"
      ],
      "metadata": {
        "colab": {
          "base_uri": "https://localhost:8080/"
        },
        "id": "ttJFl0MekC-6",
        "outputId": "2e469a5a-c33c-4ed9-9f4f-6377b0a185d3"
      },
      "execution_count": 118,
      "outputs": [
        {
          "output_type": "execute_result",
          "data": {
            "text/plain": [
              "array([[ 4., -3., -2.],\n",
              "       [-4.,  2.,  2.],\n",
              "       [10., -5., -6.]])"
            ]
          },
          "metadata": {},
          "execution_count": 118
        }
      ]
    },
    {
      "cell_type": "code",
      "source": [
        "def transpose(cofactor):\n",
        "  AT = np.zeros(9).reshape(3,3)\n",
        "  for i in range(len(cofactor)):\n",
        "    for j in range(len(cofactor[0])):\n",
        "      AT[i][j] = cofactor[j][i]\n",
        "  return AT"
      ],
      "metadata": {
        "id": "M3ZxOR6hxVs1"
      },
      "execution_count": 119,
      "outputs": []
    },
    {
      "cell_type": "code",
      "source": [
        "transpose_mat = transpose(cofactor)\n",
        "transpose_mat"
      ],
      "metadata": {
        "colab": {
          "base_uri": "https://localhost:8080/"
        },
        "id": "2Eo_cJRqyd1e",
        "outputId": "0ee7bbec-d334-4955-dbe5-05d9aa92c2d9"
      },
      "execution_count": 121,
      "outputs": [
        {
          "output_type": "execute_result",
          "data": {
            "text/plain": [
              "array([[ 4., -4., 10.],\n",
              "       [-3.,  2., -5.],\n",
              "       [-2.,  2., -6.]])"
            ]
          },
          "metadata": {},
          "execution_count": 121
        }
      ]
    },
    {
      "cell_type": "code",
      "source": [
        "def inverse(mat, det):\n",
        "  inv = np.zeros(9).reshape(3,3)\n",
        "  for i in range(len(mat)):\n",
        "    for j in range(len(mat)):\n",
        "      inv[i][j] = mat[i][j] / det\n",
        "  return inv"
      ],
      "metadata": {
        "id": "FqNUnsYQfBFL"
      },
      "execution_count": 130,
      "outputs": []
    },
    {
      "cell_type": "code",
      "source": [
        "inverse(transpose_mat, det)"
      ],
      "metadata": {
        "colab": {
          "base_uri": "https://localhost:8080/"
        },
        "id": "0QDl7U0nyoCw",
        "outputId": "77c8326f-91fe-4bdd-aa2c-df1a22c6c8fd"
      },
      "execution_count": 131,
      "outputs": [
        {
          "output_type": "execute_result",
          "data": {
            "text/plain": [
              "array([[-2. ,  2. , -5. ],\n",
              "       [ 1.5, -1. ,  2.5],\n",
              "       [ 1. , -1. ,  3. ]])"
            ]
          },
          "metadata": {},
          "execution_count": 131
        }
      ]
    }
  ]
}