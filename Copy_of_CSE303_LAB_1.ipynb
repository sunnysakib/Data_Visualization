{
  "nbformat": 4,
  "nbformat_minor": 0,
  "metadata": {
    "colab": {
      "provenance": [],
      "include_colab_link": true
    },
    "kernelspec": {
      "name": "python3",
      "display_name": "Python 3"
    },
    "language_info": {
      "name": "python"
    }
  },
  "cells": [
    {
      "cell_type": "markdown",
      "metadata": {
        "id": "view-in-github",
        "colab_type": "text"
      },
      "source": [
        "<a href=\"https://colab.research.google.com/github/sunnysakib/Data_Visualization/blob/main/Copy_of_CSE303_LAB_1.ipynb\" target=\"_parent\"><img src=\"https://colab.research.google.com/assets/colab-badge.svg\" alt=\"Open In Colab\"/></a>"
      ]
    },
    {
      "cell_type": "markdown",
      "source": [
        "CSE303 Section 05 Lab 0"
      ],
      "metadata": {
        "id": "1mma6a6UvDnF"
      }
    },
    {
      "cell_type": "code",
      "source": [
        "m = [{1,2,3},{4,9,6},{7,8,9}]\n",
        "def printMatrix(M):\n",
        "  for i in range(len(M)):\n",
        "    for j in range(len(M)):\n",
        "      print(M[i][j], end = \" \")\n",
        "\n",
        "\n",
        "\n"
      ],
      "metadata": {
        "id": "uh_VIEtGNlX5"
      },
      "execution_count": null,
      "outputs": []
    },
    {
      "cell_type": "code",
      "source": [
        "myMatrix = [{1,2,3},{4,9,6},{7,8,9}]\n",
        "myMatrix"
      ],
      "metadata": {
        "id": "AcEVI_xfM3Dx",
        "colab": {
          "base_uri": "https://localhost:8080/"
        },
        "outputId": "bfde7d72-84ad-4ddf-df5f-9a87633521ab"
      },
      "execution_count": null,
      "outputs": [
        {
          "output_type": "execute_result",
          "data": {
            "text/plain": [
              "[{1, 2, 3}, {4, 6, 9}, {7, 8, 9}]"
            ]
          },
          "metadata": {},
          "execution_count": 1
        }
      ]
    },
    {
      "cell_type": "code",
      "source": [
        "def printMatrix(M):\n",
        "  for i in range(len(M)):\n",
        "    for j in range(len(M[0])):\n",
        "      print(M[i][j], end = \" \")\n",
        "    print()"
      ],
      "metadata": {
        "id": "SVBtUjE5SQS3"
      },
      "execution_count": null,
      "outputs": []
    },
    {
      "cell_type": "code",
      "source": [
        "myMatrix1 = [{1,2,3},{4,9,6},{7,8,9}]\n",
        "myMatrix2 = [{1,2,3},{4,9,6},{7,8,9}]"
      ],
      "metadata": {
        "id": "yd9a7P1pUWKf"
      },
      "execution_count": null,
      "outputs": []
    },
    {
      "cell_type": "code",
      "source": [
        "def matrixAdd(M1,M2):\n",
        "  for i in range(len(M1)):\n",
        "    for j in range(len(M2)):\n",
        "      addMatrix =\n",
        "    print()"
      ],
      "metadata": {
        "id": "bjFF8ZAUUxzu"
      },
      "execution_count": null,
      "outputs": []
    },
    {
      "cell_type": "code",
      "source": [
        "# 1. Randomly generate a list of 20 numbers. The numbers should be in the range of 1 - 100.\n",
        "import random\n",
        "randomList = []\n",
        "for i in range(20):\n",
        "  a = random.randint(1, 100)\n",
        "  randomList.append(a);\n",
        "\n",
        "randomList"
      ],
      "metadata": {
        "colab": {
          "base_uri": "https://localhost:8080/"
        },
        "id": "fJXw9unTQ96W",
        "outputId": "c57900bd-60e9-4bca-b3e6-016239fbe3d9"
      },
      "execution_count": null,
      "outputs": [
        {
          "output_type": "execute_result",
          "data": {
            "text/plain": [
              "[13, 70, 99, 97, 21, 11, 24, 99, 6, 56, 69, 29, 35, 65, 29, 11, 97, 57, 45, 85]"
            ]
          },
          "metadata": {},
          "execution_count": 3
        }
      ]
    },
    {
      "cell_type": "code",
      "source": [
        "# 2. Define a function findMax(array) that returns the maximum value in the list.\n",
        "def findMax(array):\n",
        "  max = array[0]\n",
        "  for i in range(len(array)):\n",
        "    if array[i] > max:\n",
        "      max = array[i]\n",
        "\n",
        "  return max\n",
        "\n",
        "maxResult =  findMax(randomList)\n",
        "print(maxResult)\n"
      ],
      "metadata": {
        "colab": {
          "base_uri": "https://localhost:8080/"
        },
        "id": "kY8NpnyBWFIt",
        "outputId": "8b208393-d245-418c-cba4-e32d1555865a"
      },
      "execution_count": null,
      "outputs": [
        {
          "output_type": "stream",
          "name": "stdout",
          "text": [
            "99\n"
          ]
        }
      ]
    },
    {
      "cell_type": "code",
      "source": [
        "# 3. Define a function findMin(array) that returns the minimum value in the list.\n",
        "def findMin(array):\n",
        "  min = array[0]\n",
        "  for i in range(len(array)):\n",
        "    if array[i] < min:\n",
        "      min = array[i]\n",
        "  return min\n",
        "\n",
        "minResult = findMin(randomList)\n",
        "print(minResult)\n"
      ],
      "metadata": {
        "colab": {
          "base_uri": "https://localhost:8080/"
        },
        "id": "pJzgVukJadZO",
        "outputId": "70ef9d3e-aa11-4de8-9e4e-731920fff3a8"
      },
      "execution_count": null,
      "outputs": [
        {
          "output_type": "stream",
          "name": "stdout",
          "text": [
            "6\n"
          ]
        }
      ]
    },
    {
      "cell_type": "code",
      "source": [
        "# 4. Define a function linearSearch(array, value) that searches for the number with the given value in the list. If found, return the index of the number; otherwise, return -1\n",
        "\n",
        "def linearSearch(array, value):\n",
        "  for i in range(len(array)):\n",
        "    if array[i] == value:\n",
        "      return i\n",
        "  return -1\n",
        "\n",
        "linearSearch(randomList, 120)"
      ],
      "metadata": {
        "colab": {
          "base_uri": "https://localhost:8080/"
        },
        "id": "DWikXicObmuY",
        "outputId": "53d9336b-a915-4ce8-c16e-bc7722509089"
      },
      "execution_count": null,
      "outputs": [
        {
          "output_type": "execute_result",
          "data": {
            "text/plain": [
              "-1"
            ]
          },
          "metadata": {},
          "execution_count": 27
        }
      ]
    },
    {
      "cell_type": "code",
      "source": [
        "# 5. Define a function binarySearch(array, value) that searches for the number with the given value in the list using Binary Search Algorithm. If found, return the index of the number; otherwise, return -1.\n",
        "\n",
        "def binarySearch(array, value):\n",
        "  array.sort()\n",
        "  low = 0\n",
        "  high = len(array) - 1\n",
        "  while low<=high:\n",
        "    middle = (high + low) // 2\n",
        "    if array[middle] == value:\n",
        "      return middle\n",
        "    elif array[middle] > value:\n",
        "      high = middle - 1\n",
        "    else:\n",
        "      low = middle + 1\n",
        "  return -1\n",
        "\n",
        "\n",
        "binarySearch(randomList, 13)\n"
      ],
      "metadata": {
        "colab": {
          "base_uri": "https://localhost:8080/"
        },
        "id": "aoCjI6D-dmmX",
        "outputId": "bea494f7-2a49-4a90-87cb-07884a6caca5"
      },
      "execution_count": null,
      "outputs": [
        {
          "output_type": "execute_result",
          "data": {
            "text/plain": [
              "3"
            ]
          },
          "metadata": {},
          "execution_count": 58
        }
      ]
    },
    {
      "cell_type": "code",
      "source": [
        "# 6. Define a function bubbleSort(array) that sorts the list in ascending order.\n",
        "\n",
        "def bubbleSort(array):\n",
        "  for i in range(len(array)-1):\n",
        "    for j in range(i+1, len(array)):\n",
        "      if array[i] > array[j]:\n",
        "        temp = array[i]\n",
        "        array[i] = array[j]\n",
        "        array[j] = temp\n",
        "\n",
        "bubbleSort(randomList)\n",
        "randomList"
      ],
      "metadata": {
        "colab": {
          "base_uri": "https://localhost:8080/"
        },
        "id": "oAbrZb6R35Dy",
        "outputId": "72962d1b-14f2-41ee-ec72-7fa19c77362e"
      },
      "execution_count": null,
      "outputs": [
        {
          "output_type": "execute_result",
          "data": {
            "text/plain": [
              "[6, 11, 11, 13, 21, 24, 29, 29, 35, 45, 56, 57, 65, 69, 70, 85, 97, 97, 99, 99]"
            ]
          },
          "metadata": {},
          "execution_count": 61
        }
      ]
    },
    {
      "cell_type": "code",
      "source": [
        "# 7. Define a function matrixAdd(matrix1, matrix2) that returns the addition of two matrices.\n"
      ],
      "metadata": {
        "colab": {
          "base_uri": "https://localhost:8080/"
        },
        "id": "aLBT3g3k9vIC",
        "outputId": "a19b5c4b-8583-43a7-bba4-531f711b6b6a"
      },
      "execution_count": null,
      "outputs": [
        {
          "output_type": "execute_result",
          "data": {
            "text/plain": [
              "[{1, 2, 3}, {4, 6, 9}, {7, 8, 9}]"
            ]
          },
          "metadata": {},
          "execution_count": 62
        }
      ]
    },
    {
      "cell_type": "code",
      "source": [
        "matrix1 = [[1,2,3],[4,5,6],[7,8,9]]\n",
        "matrix2 = [[10,11,12],[13,14,15],[16,17,18]]\n"
      ],
      "metadata": {
        "id": "05stn-k0-SvZ"
      },
      "execution_count": null,
      "outputs": []
    },
    {
      "cell_type": "code",
      "source": [
        "def printMatrix(M):\n",
        "  for row in range(len(M)):\n",
        "    for col in range(len(M[0])):\n",
        "      print(M[row][col], end = \" \")\n",
        "    print()\n",
        "\n",
        "printMatrix(myMatrix)"
      ],
      "metadata": {
        "colab": {
          "base_uri": "https://localhost:8080/"
        },
        "id": "XD63iff0_MCC",
        "outputId": "585fb4ed-e6ac-4066-9a89-0b4ce3246237"
      },
      "execution_count": null,
      "outputs": [
        {
          "output_type": "stream",
          "name": "stdout",
          "text": [
            "1 2 3 \n",
            "4 9 6 \n",
            "7 8 9 \n"
          ]
        }
      ]
    },
    {
      "cell_type": "code",
      "source": [
        "# 7. Define a function matrixAdd(matrix1, matrix2) that returns the addition of two matrices.\n",
        "def matrixAdd(M1,M2):\n",
        "  for row in range(len(M1)):\n",
        "    for col in range(len(M1[0])):\n",
        "      print(M1[row][col] + M2[row][col], end = \" \")\n",
        "    print()\n",
        "\n",
        "matrixAdd(matrix1, matrix2)"
      ],
      "metadata": {
        "colab": {
          "base_uri": "https://localhost:8080/"
        },
        "id": "wkPYfN6x3_IM",
        "outputId": "d90bb8e1-810e-468f-9d83-26590e7339cf"
      },
      "execution_count": null,
      "outputs": [
        {
          "output_type": "stream",
          "name": "stdout",
          "text": [
            "11 13 15 \n",
            "17 19 21 \n",
            "23 25 27 \n"
          ]
        }
      ]
    },
    {
      "cell_type": "code",
      "source": [
        "# 8. Define a function matrixSub(matrix1, matrix2) that returns the subtraction between two matrices.\n",
        "def matrixSub(M1,M2):\n",
        "  for row in range(len(M1)):\n",
        "    for col in range(len(M1[0])):\n",
        "      print(M1[row][col] - M2[row][col], end = \" \")\n",
        "    print()\n",
        "\n",
        "matrixSub(matrix1, matrix2)"
      ],
      "metadata": {
        "colab": {
          "base_uri": "https://localhost:8080/"
        },
        "id": "qCh1UUoT9V3G",
        "outputId": "278ce185-e2b8-476e-811a-9364bac15ac8"
      },
      "execution_count": null,
      "outputs": [
        {
          "output_type": "stream",
          "name": "stdout",
          "text": [
            "-9 -9 -9 \n",
            "-9 -9 -9 \n",
            "-9 -9 -9 \n"
          ]
        }
      ]
    },
    {
      "cell_type": "code",
      "source": [
        "mat1 = [[1,2,3],[4,5,6]]\n",
        "mat2 = [[7,8],[9,10],[11,12]]"
      ],
      "metadata": {
        "id": "oecB02BiIQ50"
      },
      "execution_count": null,
      "outputs": []
    },
    {
      "cell_type": "code",
      "source": [
        "# 9. Define a function matrixMultiplication(matrix1, matrix2) that returns the multiplication between two matrices.\n",
        "\n",
        "def matrixMultiplication(M1, M2):\n",
        "  for i in range(len(M1)):\n",
        "    for j in range(len(M2[0])):\n",
        "      mul = 0\n",
        "      for k in range(len(M2)):\n",
        "        mul = mul + M1[i][k]*M2[k][j]\n",
        "      print(mul, end = \" \")\n",
        "    print()\n",
        "\n",
        "matrixMultiplication(mat1, mat2)"
      ],
      "metadata": {
        "colab": {
          "base_uri": "https://localhost:8080/"
        },
        "id": "3rGPPiPoCFS4",
        "outputId": "bd8b9676-881d-4133-ebef-ed2f4cc3cab5"
      },
      "execution_count": null,
      "outputs": [
        {
          "output_type": "stream",
          "name": "stdout",
          "text": [
            "58 64 \n",
            "139 154 \n"
          ]
        }
      ]
    },
    {
      "cell_type": "code",
      "source": [
        "# 10.  Collect the last twenty innings score of your favorite batsman in T20. Then visualize these data points along with the average and variance of the score.\n",
        "\n",
        "import matplotlib.pyplot as plt\n",
        "idx = [i+1 for i in range(20)]\n",
        "score = [5,15,6,54,15,25,35,44,10,80,28,26,11,38,50,57,45,20,62,24]\n",
        "sum = 0\n",
        "sum2 = 0\n",
        "\n",
        "for i in range(len(score)):\n",
        "  sum = sum + score[i]\n",
        "\n",
        "average = sum/len(score)\n",
        "\n",
        "for j in range(len(score)):\n",
        "  sum2 = sum2 + (score[i] + average) ** 2\n",
        "\n",
        "variance = sum2/len(score)-1\n",
        "\n",
        "plt.plot(idx, score, \"b.\")\n",
        "# plt.hlines(average, )\n",
        "plt.hlines(average,0,21,color='red', linestyle='--')\n",
        "plt.hlines(variance,0,21,color='green', linestyle='--')\n",
        "plt.show()\n"
      ],
      "metadata": {
        "colab": {
          "base_uri": "https://localhost:8080/",
          "height": 430
        },
        "id": "A2_50EqwJK0g",
        "outputId": "419e8184-bf0d-445f-ee17-6c53fe91588a"
      },
      "execution_count": null,
      "outputs": [
        {
          "output_type": "display_data",
          "data": {
            "text/plain": [
              "<Figure size 640x480 with 1 Axes>"
            ],
            "image/png": "[encoded data removed]"
          },
          "metadata": {}
        }
      ]
    }
  ]
}